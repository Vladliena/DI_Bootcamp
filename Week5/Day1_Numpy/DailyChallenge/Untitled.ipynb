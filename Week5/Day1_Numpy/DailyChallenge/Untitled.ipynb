{
 "cells": [
  {
   "cell_type": "code",
   "execution_count": 1,
   "id": "69fb372c-977d-48e4-a136-9e768b394cc6",
   "metadata": {},
   "outputs": [],
   "source": [
    "import numpy as np"
   ]
  },
  {
   "cell_type": "code",
   "execution_count": 2,
   "id": "f94bfde1-8f9e-4688-83b6-6d293572e805",
   "metadata": {},
   "outputs": [
    {
     "name": "stdout",
     "output_type": "stream",
     "text": [
      "[[ 1  6 15 88 20]\n",
      " [ 6 71 30 79 19]\n",
      " [67 34 47 39 43]\n",
      " [41 53 76 66 85]\n",
      " [59 54 85 47 35]]\n"
     ]
    }
   ],
   "source": [
    "data = np.array(np.random.randint(1, 100, size=25)).reshape(5, 5)\n",
    "print(data)"
   ]
  },
  {
   "cell_type": "code",
   "execution_count": 11,
   "id": "7671b17a-5bb8-465a-a52f-cfc78265b96a",
   "metadata": {},
   "outputs": [
    {
     "data": {
      "text/plain": [
       "array([[67, 34, 47, 39, 43],\n",
       "       [41, 53, 76, 66, 85],\n",
       "       [59, 54, 85, 47, 35],\n",
       "       [ 1,  6, 15, 88, 20],\n",
       "       [ 6, 71, 30, 79, 19]])"
      ]
     },
     "execution_count": 11,
     "metadata": {},
     "output_type": "execute_result"
    }
   ],
   "source": [
    "data[1], data[3] = data[3].copy(), data[1].copy()\n",
    "data"
   ]
  },
  {
   "cell_type": "code",
   "execution_count": 24,
   "id": "f8e183ea-2103-4a85-b30b-fcba02067b2f",
   "metadata": {},
   "outputs": [
    {
     "data": {
      "text/plain": [
       "array([[0.93617021, 0.96808511, 0.92553191, 0.73404255, 0.04255319],\n",
       "       [0.90425532, 0.06382979, 0.17021277, 0.75531915, 1.        ],\n",
       "       [0.78723404, 0.37234043, 0.        , 0.89361702, 0.5212766 ],\n",
       "       [0.45744681, 0.20212766, 0.37234043, 0.88297872, 0.95744681],\n",
       "       [0.87234043, 0.38297872, 0.38297872, 0.91489362, 0.44680851]])"
      ]
     },
     "execution_count": 24,
     "metadata": {},
     "output_type": "execute_result"
    }
   ],
   "source": [
    "data1 = np.array(np.random.randint(1, 100, size=25)).reshape(5, 5)\n",
    "data1\n",
    "min_val = data1.min()\n",
    "max_val = data1.max()\n",
    "normalized_data = (data1 - min_val) / (max_val - min_val)\n",
    "normalized_data"
   ]
  },
  {
   "cell_type": "code",
   "execution_count": 25,
   "id": "51c14235-3a6a-4859-8a69-bbab6c40d608",
   "metadata": {},
   "outputs": [
    {
     "data": {
      "text/plain": [
       "array([[-1.49236514,  0.93167428,  1.38837736, -1.56262715,  1.35324635],\n",
       "       [ 0.08853014, -0.1222559 ,  1.17759132,  1.31811535,  0.96680529],\n",
       "       [-0.86000703,  0.33444718, -0.33304194,  0.05339913, -0.86000703],\n",
       "       [-0.82487602, -1.52749614, -0.29791093, -0.36817294,  0.79115026],\n",
       "       [-1.87880621, -0.40330395,  0.89654328, -0.01686288,  1.24785334]])"
      ]
     },
     "execution_count": 25,
     "metadata": {},
     "output_type": "execute_result"
    }
   ],
   "source": [
    "data2 = np.array(np.random.randint(1, 100, size=25)).reshape(5, 5)\n",
    "data2\n",
    "mean = np.mean(data2)\n",
    "std = np.std(data2)\n",
    "z_score_data = (data2 - mean) / std\n",
    "z_score_data"
   ]
  },
  {
   "cell_type": "code",
   "execution_count": 26,
   "id": "acf9a54c-845e-4287-941a-8f75ee009bf9",
   "metadata": {},
   "outputs": [
    {
     "name": "stdout",
     "output_type": "stream",
     "text": [
      "[80 82  9  4 65]\n",
      "[57  7 18 92 63]\n",
      "[70 72 53  2 91]\n",
      "[86 22 93 90 20]\n",
      "[76 16 54 68 76]\n"
     ]
    }
   ],
   "source": [
    "data3 = np.array(np.random.randint(1, 100, size=25)).reshape(5, 5)\n",
    "data3\n",
    "vector_data = np.ravel(data3)\n",
    "sub_arrays = np.split(vector_data, 5)\n",
    "for sub_array in sub_arrays:\n",
    "    print(sub_array)"
   ]
  },
  {
   "cell_type": "code",
   "execution_count": 17,
   "id": "5f4b2bcb-8c21-4713-b6a2-b3d3bb74af60",
   "metadata": {},
   "outputs": [
    {
     "data": {
      "text/plain": [
       "198"
      ]
     },
     "execution_count": 17,
     "metadata": {},
     "output_type": "execute_result"
    }
   ],
   "source": [
    "vector1 = np.array([3, 5, 6, 7, 8])\n",
    "vector2 = np.array([2, 4, 6, 8, 10])\n",
    "dot_product = np.dot(vector1, vector2)\n",
    "dot_product"
   ]
  },
  {
   "cell_type": "code",
   "execution_count": 27,
   "id": "645faadd-7509-47e7-8d74-295dffe981c0",
   "metadata": {},
   "outputs": [
    {
     "data": {
      "text/plain": [
       "array([[368, 668, 968],\n",
       "       [258, 542, 826],\n",
       "       [375, 669, 963]])"
      ]
     },
     "execution_count": 27,
     "metadata": {},
     "output_type": "execute_result"
    }
   ],
   "source": [
    "data4 = np.array(np.random.randint(1, 100, size=25)).reshape(5, 5)\n",
    "data5 = np.array([[2, 4, 6],\n",
    "                  [1, 3, 5],\n",
    "                  [3, 5, 7]])\n",
    "result = np.dot(data4[:3, :3], data5)\n",
    "result"
   ]
  },
  {
   "cell_type": "code",
   "execution_count": 19,
   "id": "34df235a-4439-47c1-a1b9-0292e403a93c",
   "metadata": {},
   "outputs": [
    {
     "data": {
      "text/plain": [
       "array([[0.5, 0. , 0. ],\n",
       "       [0. , 0.5, 0. ],\n",
       "       [0. , 0. , 0.5]])"
      ]
     },
     "execution_count": 19,
     "metadata": {},
     "output_type": "execute_result"
    }
   ],
   "source": [
    "identity_matrix = np.identity(3)\n",
    "scaled_matrix = identity_matrix * 2\n",
    "inverse_matrix = np.linalg.inv(scaled_matrix)\n",
    "inverse_matrix"
   ]
  },
  {
   "cell_type": "code",
   "execution_count": 28,
   "id": "f47a8e24-e92f-46f3-8c6c-834a02362848",
   "metadata": {},
   "outputs": [
    {
     "data": {
      "text/plain": [
       "array([[-0.60691948, -0.89688874,  0.12207625],\n",
       "       [-0.3844173 ,  0.42244681, -0.80306904],\n",
       "       [-0.69560915,  0.1308789 ,  0.58324738]])"
      ]
     },
     "execution_count": 28,
     "metadata": {},
     "output_type": "execute_result"
    }
   ],
   "source": [
    "data6 = np.array(np.random.randint(1, 100, size=25)).reshape(5, 5)\n",
    "sub_matrix = data6[:3, :3]\n",
    "eigenvalues, eigenvectors = np.linalg.eig(sub_matrix)\n",
    "eigenvalues\n",
    "eigenvectors"
   ]
  },
  {
   "cell_type": "code",
   "execution_count": 29,
   "id": "0879bb7e-bdfd-4899-a705-42c8f4c34afd",
   "metadata": {},
   "outputs": [
    {
     "data": {
      "text/plain": [
       "array([[55, 38, 88,  9, 58],\n",
       "       [57, 27, 28, 27, 18],\n",
       "       [65, 83, 68, 15, 98],\n",
       "       [22, 28, 31, 71, 83],\n",
       "       [ 9, 78, 18, 86, 20]])"
      ]
     },
     "execution_count": 29,
     "metadata": {},
     "output_type": "execute_result"
    }
   ],
   "source": [
    "data7 = np.array(np.random.randint(1, 100, size=25)).reshape(5, 5)\n",
    "data7"
   ]
  },
  {
   "cell_type": "code",
   "execution_count": 30,
   "id": "36b6de3d-2074-4054-8654-f613407db0f8",
   "metadata": {},
   "outputs": [
    {
     "ename": "ValueError",
     "evalue": "cannot convert float NaN to integer",
     "output_type": "error",
     "traceback": [
      "\u001b[1;31m---------------------------------------------------------------------------\u001b[0m",
      "\u001b[1;31mValueError\u001b[0m                                Traceback (most recent call last)",
      "Cell \u001b[1;32mIn[30], line 3\u001b[0m\n\u001b[0;32m      1\u001b[0m num_missing \u001b[38;5;241m=\u001b[39m \u001b[38;5;241m5\u001b[39m\n\u001b[0;32m      2\u001b[0m missing_indices \u001b[38;5;241m=\u001b[39m np\u001b[38;5;241m.\u001b[39mrandom\u001b[38;5;241m.\u001b[39mchoice(data7\u001b[38;5;241m.\u001b[39msize, num_missing, replace\u001b[38;5;241m=\u001b[39m\u001b[38;5;28;01mFalse\u001b[39;00m)\n\u001b[1;32m----> 3\u001b[0m \u001b[43mdata7\u001b[49m\u001b[38;5;241;43m.\u001b[39;49m\u001b[43mravel\u001b[49m\u001b[43m(\u001b[49m\u001b[43m)\u001b[49m\u001b[43m[\u001b[49m\u001b[43mmissing_indices\u001b[49m\u001b[43m]\u001b[49m \u001b[38;5;241m=\u001b[39m np\u001b[38;5;241m.\u001b[39mnan\n\u001b[0;32m      4\u001b[0m data7\n",
      "\u001b[1;31mValueError\u001b[0m: cannot convert float NaN to integer"
     ]
    }
   ],
   "source": [
    "num_missing = 5\n",
    "missing_indices = np.random.choice(data7.size, num_missing, replace=False)\n",
    "data7.ravel()[missing_indices] = np.nan\n",
    "data7"
   ]
  },
  {
   "cell_type": "markdown",
   "id": "cb57aaab-1222-45a0-b863-8fc222b7ea81",
   "metadata": {},
   "source": [
    "### 9 exercise dont understand"
   ]
  },
  {
   "cell_type": "code",
   "execution_count": 31,
   "id": "860c0972-3c56-4f8e-baac-cd1644b94eed",
   "metadata": {},
   "outputs": [
    {
     "data": {
      "text/plain": [
       "array([[88, 11, 31, 60, 73],\n",
       "       [84, 18, 66, 15, 50],\n",
       "       [40, 77,  6, 92, 50],\n",
       "       [56, 86, 59, 97, 67],\n",
       "       [ 8, 49, 69, 34, 92]])"
      ]
     },
     "execution_count": 31,
     "metadata": {},
     "output_type": "execute_result"
    }
   ],
   "source": [
    "data8 = np.array(np.random.randint(1, 100, size=25)).reshape(5, 5)\n",
    "data8\n"
   ]
  },
  {
   "cell_type": "code",
   "execution_count": 32,
   "id": "150c3cdd-a4fe-468f-9f96-0bc4ac650c1e",
   "metadata": {},
   "outputs": [
    {
     "ename": "ValueError",
     "evalue": "cannot convert float NaN to integer",
     "output_type": "error",
     "traceback": [
      "\u001b[1;31m---------------------------------------------------------------------------\u001b[0m",
      "\u001b[1;31mValueError\u001b[0m                                Traceback (most recent call last)",
      "Cell \u001b[1;32mIn[32], line 3\u001b[0m\n\u001b[0;32m      1\u001b[0m num_missing \u001b[38;5;241m=\u001b[39m \u001b[38;5;241m5\u001b[39m\n\u001b[0;32m      2\u001b[0m missing_indices \u001b[38;5;241m=\u001b[39m np\u001b[38;5;241m.\u001b[39mrandom\u001b[38;5;241m.\u001b[39mchoice(data\u001b[38;5;241m.\u001b[39msize, num_missing, replace\u001b[38;5;241m=\u001b[39m\u001b[38;5;28;01mFalse\u001b[39;00m)\n\u001b[1;32m----> 3\u001b[0m \u001b[43mdata8\u001b[49m\u001b[38;5;241;43m.\u001b[39;49m\u001b[43mravel\u001b[49m\u001b[43m(\u001b[49m\u001b[43m)\u001b[49m\u001b[43m[\u001b[49m\u001b[43mmissing_indices\u001b[49m\u001b[43m]\u001b[49m \u001b[38;5;241m=\u001b[39m np\u001b[38;5;241m.\u001b[39mnan\n\u001b[0;32m      4\u001b[0m data8\n",
      "\u001b[1;31mValueError\u001b[0m: cannot convert float NaN to integer"
     ]
    }
   ],
   "source": [
    "num_missing = 5\n",
    "missing_indices = np.random.choice(data.size, num_missing, replace=False)\n",
    "data8.ravel()[missing_indices] = np.nan\n",
    "data8"
   ]
  },
  {
   "cell_type": "code",
   "execution_count": null,
   "id": "8fe30417-3d44-4736-b4f7-05119b427cd5",
   "metadata": {},
   "outputs": [],
   "source": []
  }
 ],
 "metadata": {
  "kernelspec": {
   "display_name": "Python 3 (ipykernel)",
   "language": "python",
   "name": "python3"
  },
  "language_info": {
   "codemirror_mode": {
    "name": "ipython",
    "version": 3
   },
   "file_extension": ".py",
   "mimetype": "text/x-python",
   "name": "python",
   "nbconvert_exporter": "python",
   "pygments_lexer": "ipython3",
   "version": "3.11.4"
  }
 },
 "nbformat": 4,
 "nbformat_minor": 5
}
