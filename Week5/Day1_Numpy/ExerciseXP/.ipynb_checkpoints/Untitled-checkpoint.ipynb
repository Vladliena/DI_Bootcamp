{
 "cells": [
  {
   "cell_type": "code",
   "execution_count": 1,
   "id": "679cab4b-46f6-4429-ad62-80168e0bdd8c",
   "metadata": {},
   "outputs": [],
   "source": [
    "import numpy as np"
   ]
  },
  {
   "cell_type": "code",
   "execution_count": 2,
   "id": "24cc1220-0436-4f2b-8aa7-f4e7dfccd8fc",
   "metadata": {},
   "outputs": [],
   "source": [
    "vector_zero = np.zeros(10, dtype=float)"
   ]
  },
  {
   "cell_type": "code",
   "execution_count": 3,
   "id": "0da891ed-3cf1-43ef-bdc2-38ea96e21646",
   "metadata": {},
   "outputs": [
    {
     "data": {
      "text/plain": [
       "array([0., 0., 0., 0., 0., 0., 0., 0., 0., 0.])"
      ]
     },
     "execution_count": 3,
     "metadata": {},
     "output_type": "execute_result"
    }
   ],
   "source": [
    "vector_zero"
   ]
  },
  {
   "cell_type": "code",
   "execution_count": 7,
   "id": "c8578ebd-c06a-4998-a44c-d731a78f2151",
   "metadata": {},
   "outputs": [
    {
     "data": {
      "text/plain": [
       "8"
      ]
     },
     "execution_count": 7,
     "metadata": {},
     "output_type": "execute_result"
    }
   ],
   "source": [
    "vector_zero.itemsize"
   ]
  },
  {
   "cell_type": "code",
   "execution_count": 8,
   "id": "0af0367d-6eed-4ef5-9f06-9ac821b6439a",
   "metadata": {},
   "outputs": [
    {
     "name": "stdout",
     "output_type": "stream",
     "text": [
      "add(x1, x2, /, out=None, *, where=True, casting='same_kind', order='K', dtype=None, subok=True[, signature, extobj])\n",
      "\n",
      "Add arguments element-wise.\n",
      "\n",
      "Parameters\n",
      "----------\n",
      "x1, x2 : array_like\n",
      "    The arrays to be added.\n",
      "    If ``x1.shape != x2.shape``, they must be broadcastable to a common\n",
      "    shape (which becomes the shape of the output).\n",
      "out : ndarray, None, or tuple of ndarray and None, optional\n",
      "    A location into which the result is stored. If provided, it must have\n",
      "    a shape that the inputs broadcast to. If not provided or None,\n",
      "    a freshly-allocated array is returned. A tuple (possible only as a\n",
      "    keyword argument) must have length equal to the number of outputs.\n",
      "where : array_like, optional\n",
      "    This condition is broadcast over the input. At locations where the\n",
      "    condition is True, the `out` array will be set to the ufunc result.\n",
      "    Elsewhere, the `out` array will retain its original value.\n",
      "    Note that if an uninitialized `out` array is created via the default\n",
      "    ``out=None``, locations within it where the condition is False will\n",
      "    remain uninitialized.\n",
      "**kwargs\n",
      "    For other keyword-only arguments, see the\n",
      "    :ref:`ufunc docs <ufuncs.kwargs>`.\n",
      "\n",
      "Returns\n",
      "-------\n",
      "add : ndarray or scalar\n",
      "    The sum of `x1` and `x2`, element-wise.\n",
      "    This is a scalar if both `x1` and `x2` are scalars.\n",
      "\n",
      "Notes\n",
      "-----\n",
      "Equivalent to `x1` + `x2` in terms of array broadcasting.\n",
      "\n",
      "Examples\n",
      "--------\n",
      ">>> np.add(1.0, 4.0)\n",
      "5.0\n",
      ">>> x1 = np.arange(9.0).reshape((3, 3))\n",
      ">>> x2 = np.arange(3.0)\n",
      ">>> np.add(x1, x2)\n",
      "array([[  0.,   2.,   4.],\n",
      "       [  3.,   5.,   7.],\n",
      "       [  6.,   8.,  10.]])\n",
      "\n",
      "The ``+`` operator can be used as a shorthand for ``np.add`` on ndarrays.\n",
      "\n",
      ">>> x1 = np.arange(9.0).reshape((3, 3))\n",
      ">>> x2 = np.arange(3.0)\n",
      ">>> x1 + x2\n",
      "array([[ 0.,  2.,  4.],\n",
      "       [ 3.,  5.,  7.],\n",
      "       [ 6.,  8., 10.]])\n"
     ]
    }
   ],
   "source": [
    "np.info(np.add)"
   ]
  },
  {
   "cell_type": "code",
   "execution_count": 11,
   "id": "188e6df0-f504-4cd5-a0fa-4db403417ac2",
   "metadata": {},
   "outputs": [],
   "source": [
    "vector = np.arange(10,50)"
   ]
  },
  {
   "cell_type": "code",
   "execution_count": 12,
   "id": "8586b275-435e-419d-889c-ddf0581241c8",
   "metadata": {},
   "outputs": [
    {
     "data": {
      "text/plain": [
       "array([10, 11, 12, 13, 14, 15, 16, 17, 18, 19, 20, 21, 22, 23, 24, 25, 26,\n",
       "       27, 28, 29, 30, 31, 32, 33, 34, 35, 36, 37, 38, 39, 40, 41, 42, 43,\n",
       "       44, 45, 46, 47, 48, 49])"
      ]
     },
     "execution_count": 12,
     "metadata": {},
     "output_type": "execute_result"
    }
   ],
   "source": [
    "vector"
   ]
  },
  {
   "cell_type": "code",
   "execution_count": 28,
   "id": "5010555e-a6c4-4b07-b4dd-f815a76a979c",
   "metadata": {},
   "outputs": [
    {
     "data": {
      "text/plain": [
       "array([49, 48, 47, 46, 45, 44, 43, 42, 41, 40, 39, 38, 37, 36, 35, 34, 33,\n",
       "       32, 31, 30, 29, 28, 27, 26, 25, 24, 23, 22, 21, 20, 19, 18, 17, 16,\n",
       "       15, 14, 13, 12, 11, 10])"
      ]
     },
     "execution_count": 28,
     "metadata": {},
     "output_type": "execute_result"
    }
   ],
   "source": [
    "vector[::-1]"
   ]
  },
  {
   "cell_type": "code",
   "execution_count": 17,
   "id": "9104b1f5-bb66-4eb6-9fce-964c2d99c5e1",
   "metadata": {},
   "outputs": [],
   "source": [
    "matrix = np.arange(0,9)"
   ]
  },
  {
   "cell_type": "code",
   "execution_count": 26,
   "id": "8a5fcb21-d54b-4d3a-8148-9c8daaaae840",
   "metadata": {},
   "outputs": [
    {
     "data": {
      "text/plain": [
       "array([[0, 1, 2],\n",
       "       [3, 4, 5],\n",
       "       [6, 7, 8]])"
      ]
     },
     "execution_count": 26,
     "metadata": {},
     "output_type": "execute_result"
    }
   ],
   "source": [
    "matrix.reshape(3,3)"
   ]
  },
  {
   "cell_type": "code",
   "execution_count": 29,
   "id": "baa0d184-85ce-4d29-9a67-b9ea29596690",
   "metadata": {},
   "outputs": [],
   "source": [
    "no_zero_vector = np.nonzero([1, 2, 0, 0, 4, 0])"
   ]
  },
  {
   "cell_type": "code",
   "execution_count": 30,
   "id": "0ecc486c-0c20-46d8-9345-66d90e973543",
   "metadata": {},
   "outputs": [
    {
     "data": {
      "text/plain": [
       "(array([0, 1, 4], dtype=int64),)"
      ]
     },
     "execution_count": 30,
     "metadata": {},
     "output_type": "execute_result"
    }
   ],
   "source": [
    "no_zero_vector"
   ]
  },
  {
   "cell_type": "code",
   "execution_count": 31,
   "id": "ed951337-f6df-4ffc-a478-64910173db2e",
   "metadata": {},
   "outputs": [],
   "source": [
    "matrix_identity = np.eye(3, dtype=int)"
   ]
  },
  {
   "cell_type": "code",
   "execution_count": 32,
   "id": "4a9040f0-d577-4ea2-8ad0-2946abf2700e",
   "metadata": {},
   "outputs": [
    {
     "data": {
      "text/plain": [
       "array([[1, 0, 0],\n",
       "       [0, 1, 0],\n",
       "       [0, 0, 1]])"
      ]
     },
     "execution_count": 32,
     "metadata": {},
     "output_type": "execute_result"
    }
   ],
   "source": [
    "matrix_identity"
   ]
  },
  {
   "cell_type": "code",
   "execution_count": 37,
   "id": "023e7d8c-0102-4cc2-8479-bc3045dd69a4",
   "metadata": {},
   "outputs": [],
   "source": [
    "x = np.zeros((5,5))"
   ]
  },
  {
   "cell_type": "code",
   "execution_count": 38,
   "id": "33746a0e-0924-4ae6-9927-2ef1a529a032",
   "metadata": {},
   "outputs": [],
   "source": [
    "x += np.arange(5)"
   ]
  },
  {
   "cell_type": "code",
   "execution_count": 39,
   "id": "7c17d983-b61f-4799-9615-cee1bdc1d10c",
   "metadata": {},
   "outputs": [
    {
     "data": {
      "text/plain": [
       "array([[0., 1., 2., 3., 4.],\n",
       "       [0., 1., 2., 3., 4.],\n",
       "       [0., 1., 2., 3., 4.],\n",
       "       [0., 1., 2., 3., 4.],\n",
       "       [0., 1., 2., 3., 4.]])"
      ]
     },
     "execution_count": 39,
     "metadata": {},
     "output_type": "execute_result"
    }
   ],
   "source": [
    "x"
   ]
  },
  {
   "cell_type": "code",
   "execution_count": 13,
   "id": "fd21e100-3ca9-461c-bc4b-eb41c29fd886",
   "metadata": {},
   "outputs": [],
   "source": [
    "vector_size_10 = np.linspace(0,1,12,endpoint=True)[1:-1]"
   ]
  },
  {
   "cell_type": "code",
   "execution_count": 14,
   "id": "77115ead-d4ab-45c3-8a6a-fc759be26837",
   "metadata": {},
   "outputs": [
    {
     "data": {
      "text/plain": [
       "array([0.09090909, 0.18181818, 0.27272727, 0.36363636, 0.45454545,\n",
       "       0.54545455, 0.63636364, 0.72727273, 0.81818182, 0.90909091])"
      ]
     },
     "execution_count": 14,
     "metadata": {},
     "output_type": "execute_result"
    }
   ],
   "source": [
    "vector_size_10"
   ]
  },
  {
   "cell_type": "code",
   "execution_count": 15,
   "id": "dee6a0c7-be62-4cde-9617-2ae86dd587a2",
   "metadata": {},
   "outputs": [],
   "source": [
    "vector_random_10 = np.sort(np.random.rand(10))"
   ]
  },
  {
   "cell_type": "code",
   "execution_count": 16,
   "id": "1d35e4ee-5cb2-4723-b93d-9e5b82e89f4b",
   "metadata": {},
   "outputs": [
    {
     "data": {
      "text/plain": [
       "array([0.03400853, 0.17250395, 0.35561323, 0.43843179, 0.44201244,\n",
       "       0.57205551, 0.61380911, 0.6383435 , 0.77052241, 0.89926896])"
      ]
     },
     "execution_count": 16,
     "metadata": {},
     "output_type": "execute_result"
    }
   ],
   "source": [
    "vector_random_10"
   ]
  },
  {
   "cell_type": "code",
   "execution_count": 31,
   "id": "dc5e650a-b7c1-4c71-ab7b-d84295418b74",
   "metadata": {},
   "outputs": [
    {
     "data": {
      "text/plain": [
       "-128"
      ]
     },
     "execution_count": 31,
     "metadata": {},
     "output_type": "execute_result"
    }
   ],
   "source": [
    "int8 = np.iinfo(np.int8)\n",
    "int32 = np.iinfo(np.int32)\n",
    "int64 = np.iinfo(np.int64)\n",
    "float32 = np.finfo(np.float32)\n",
    "float64 = np.finfo(np.float64)\n",
    "int8.min\n"
   ]
  },
  {
   "cell_type": "code",
   "execution_count": 32,
   "id": "7e26597e-85ae-4bb0-bc18-d4ae2d5e7296",
   "metadata": {},
   "outputs": [
    {
     "data": {
      "text/plain": [
       "127"
      ]
     },
     "execution_count": 32,
     "metadata": {},
     "output_type": "execute_result"
    }
   ],
   "source": [
    "int8.max"
   ]
  },
  {
   "cell_type": "code",
   "execution_count": 33,
   "id": "5a1e9cf0-8954-4e74-82d1-1e3b2bc2d2ed",
   "metadata": {},
   "outputs": [
    {
     "data": {
      "text/plain": [
       "-2147483648"
      ]
     },
     "execution_count": 33,
     "metadata": {},
     "output_type": "execute_result"
    }
   ],
   "source": [
    "int32.min"
   ]
  },
  {
   "cell_type": "code",
   "execution_count": 34,
   "id": "1ddfd180-1826-43fd-bcda-edae6a59c4ec",
   "metadata": {},
   "outputs": [
    {
     "data": {
      "text/plain": [
       "2147483647"
      ]
     },
     "execution_count": 34,
     "metadata": {},
     "output_type": "execute_result"
    }
   ],
   "source": [
    "int32.max"
   ]
  },
  {
   "cell_type": "code",
   "execution_count": 35,
   "id": "6379306f-8160-41eb-8dd8-c4a2f9fc5f75",
   "metadata": {},
   "outputs": [
    {
     "data": {
      "text/plain": [
       "-9223372036854775808"
      ]
     },
     "execution_count": 35,
     "metadata": {},
     "output_type": "execute_result"
    }
   ],
   "source": [
    "int64.min"
   ]
  },
  {
   "cell_type": "code",
   "execution_count": 36,
   "id": "94c8f777-cfd1-4783-98ca-ea13d676dbb7",
   "metadata": {},
   "outputs": [
    {
     "data": {
      "text/plain": [
       "9223372036854775807"
      ]
     },
     "execution_count": 36,
     "metadata": {},
     "output_type": "execute_result"
    }
   ],
   "source": [
    "int64.max"
   ]
  },
  {
   "cell_type": "code",
   "execution_count": 37,
   "id": "0febcaad-e357-419a-89b7-447f52e9b87a",
   "metadata": {},
   "outputs": [
    {
     "data": {
      "text/plain": [
       "-3.4028235e+38"
      ]
     },
     "execution_count": 37,
     "metadata": {},
     "output_type": "execute_result"
    }
   ],
   "source": [
    "float32.min"
   ]
  },
  {
   "cell_type": "code",
   "execution_count": 38,
   "id": "4ab3fb27-9c34-44e0-953e-78713e14c902",
   "metadata": {},
   "outputs": [
    {
     "data": {
      "text/plain": [
       "3.4028235e+38"
      ]
     },
     "execution_count": 38,
     "metadata": {},
     "output_type": "execute_result"
    }
   ],
   "source": [
    "float32.max"
   ]
  },
  {
   "cell_type": "code",
   "execution_count": 39,
   "id": "a91f3938-8bc9-4e13-9ccd-3e4aed75b654",
   "metadata": {},
   "outputs": [
    {
     "data": {
      "text/plain": [
       "-3.4028235e+38"
      ]
     },
     "execution_count": 39,
     "metadata": {},
     "output_type": "execute_result"
    }
   ],
   "source": [
    "float32.min"
   ]
  },
  {
   "cell_type": "code",
   "execution_count": 40,
   "id": "d73382a1-cc86-411c-abd1-f602ef8ab092",
   "metadata": {},
   "outputs": [
    {
     "data": {
      "text/plain": [
       "1.7976931348623157e+308"
      ]
     },
     "execution_count": 40,
     "metadata": {},
     "output_type": "execute_result"
    }
   ],
   "source": [
    "float64.max"
   ]
  },
  {
   "cell_type": "code",
   "execution_count": 45,
   "id": "0f463248-7a36-44a3-97df-6ffdee47731c",
   "metadata": {},
   "outputs": [],
   "source": [
    "float_array = np.array([1.5, 2.7, -3.2, 4.9], dtype=np.float32)"
   ]
  },
  {
   "cell_type": "code",
   "execution_count": 46,
   "id": "b7ba2668-ca98-4db5-bc6c-0d058dd28259",
   "metadata": {},
   "outputs": [
    {
     "data": {
      "text/plain": [
       "array([ 1.5,  2.7, -3.2,  4.9], dtype=float32)"
      ]
     },
     "execution_count": 46,
     "metadata": {},
     "output_type": "execute_result"
    }
   ],
   "source": [
    "float_array"
   ]
  },
  {
   "cell_type": "code",
   "execution_count": 47,
   "id": "90b329e5-fd10-4e0c-a826-3cc0891f777b",
   "metadata": {},
   "outputs": [],
   "source": [
    "float_array[:] = np.trunc(float_array).astype(np.int32)"
   ]
  },
  {
   "cell_type": "code",
   "execution_count": 48,
   "id": "660d85f8-422d-4728-b0e8-2e750b1d985e",
   "metadata": {},
   "outputs": [
    {
     "data": {
      "text/plain": [
       "array([ 1.,  2., -3.,  4.], dtype=float32)"
      ]
     },
     "execution_count": 48,
     "metadata": {},
     "output_type": "execute_result"
    }
   ],
   "source": [
    "float_array"
   ]
  },
  {
   "cell_type": "code",
   "execution_count": 49,
   "id": "ec29a0b1-1a88-4df5-adce-8cc5e72d01d5",
   "metadata": {},
   "outputs": [],
   "source": [
    "vector_mean = np.arange(9).reshape(3, 3)"
   ]
  },
  {
   "cell_type": "code",
   "execution_count": 50,
   "id": "19176d75-2449-4624-8f98-9b545613472c",
   "metadata": {},
   "outputs": [],
   "source": [
    "vector_mean = np.mean(vector_mean, axis=1)"
   ]
  },
  {
   "cell_type": "code",
   "execution_count": 51,
   "id": "bf13ba2e-697f-4fee-903e-991dd69b9919",
   "metadata": {},
   "outputs": [
    {
     "data": {
      "text/plain": [
       "array([1., 4., 7.])"
      ]
     },
     "execution_count": 51,
     "metadata": {},
     "output_type": "execute_result"
    }
   ],
   "source": [
    "vector_mean"
   ]
  },
  {
   "cell_type": "code",
   "execution_count": 52,
   "id": "4a8a3f1c-9e79-4c76-b8c4-da919fb98318",
   "metadata": {},
   "outputs": [],
   "source": [
    "vector_2D = np.random.randint(0, 10, (2, 3))"
   ]
  },
  {
   "cell_type": "code",
   "execution_count": 54,
   "id": "2cbd6522-a4d4-4da8-9518-663f3f0a2b30",
   "metadata": {},
   "outputs": [],
   "source": [
    "vector_2D = np.argsort(vector_2D, axis=0)"
   ]
  },
  {
   "cell_type": "code",
   "execution_count": 55,
   "id": "471db419-5a90-43eb-b5d5-e9e1c189d1ab",
   "metadata": {},
   "outputs": [
    {
     "data": {
      "text/plain": [
       "array([[0, 1, 0],\n",
       "       [1, 0, 1]], dtype=int64)"
      ]
     },
     "execution_count": 55,
     "metadata": {},
     "output_type": "execute_result"
    }
   ],
   "source": [
    "vector_2D"
   ]
  },
  {
   "cell_type": "code",
   "execution_count": 58,
   "id": "7fbcb101-4305-492e-9be4-33626678eac0",
   "metadata": {},
   "outputs": [
    {
     "data": {
      "text/plain": [
       "array([[9, 9, 3],\n",
       "       [5, 7, 0],\n",
       "       [4, 3, 1],\n",
       "       [8, 2, 4]])"
      ]
     },
     "execution_count": 58,
     "metadata": {},
     "output_type": "execute_result"
    }
   ],
   "source": [
    "arr = np.array([[4,3,1], [5,7,0], [9,9,3], [8,2,4]])\n",
    "arr[[0,2]] = arr[[2,0]]\n",
    "arr"
   ]
  },
  {
   "cell_type": "code",
   "execution_count": 62,
   "id": "cf7fadcd-005a-4645-a449-a1cd14710b33",
   "metadata": {},
   "outputs": [
    {
     "data": {
      "text/plain": [
       "array([0, 2, 0, 3, 1, 0, 0, 2], dtype=int64)"
      ]
     },
     "execution_count": 62,
     "metadata": {},
     "output_type": "execute_result"
    }
   ],
   "source": [
    "arr_new = np.array([0, 2, 0, 3, 1, 0, 0, 2])\n",
    "arr2_new = np.repeat(np.arange(len(C)), C)\n",
    "np.bincount(arr2_new)"
   ]
  },
  {
   "cell_type": "code",
   "execution_count": 60,
   "id": "c380b473-645c-4cef-bd6e-3724cc54e956",
   "metadata": {},
   "outputs": [
    {
     "data": {
      "text/plain": [
       "array([2, 3, 1], dtype=int64)"
      ]
     },
     "execution_count": 60,
     "metadata": {},
     "output_type": "execute_result"
    }
   ],
   "source": [
    "vector_bitcount"
   ]
  },
  {
   "cell_type": "code",
   "execution_count": null,
   "id": "cc106a51-88df-4fdb-8ded-cf01dff90480",
   "metadata": {},
   "outputs": [],
   "source": []
  }
 ],
 "metadata": {
  "kernelspec": {
   "display_name": "Python 3 (ipykernel)",
   "language": "python",
   "name": "python3"
  },
  "language_info": {
   "codemirror_mode": {
    "name": "ipython",
    "version": 3
   },
   "file_extension": ".py",
   "mimetype": "text/x-python",
   "name": "python",
   "nbconvert_exporter": "python",
   "pygments_lexer": "ipython3",
   "version": "3.11.4"
  }
 },
 "nbformat": 4,
 "nbformat_minor": 5
}
